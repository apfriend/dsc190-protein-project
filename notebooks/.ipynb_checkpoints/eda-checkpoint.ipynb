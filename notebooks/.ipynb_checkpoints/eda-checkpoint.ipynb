{
 "cells": [
  {
   "cell_type": "markdown",
   "id": "c5dd18e8-3a83-45cd-9c12-f88a40c0f58a",
   "metadata": {},
   "source": [
    "# DSC 190 Protein Topological Data Analysis EDA\n",
    "\n",
    "Download some protein structures from protein data bank . Compute suitable persistence diagrams (as topological summaries) for these atomic structures. Compare / cluster them via some clustering method. You can try different distance metrics for persistence diagram summaries.\n",
    "\n",
    "Alternatively, you can focus on a few molecules and provide detailed topological analysis. I think they have structures for some SARS-CoV-2 Spike and Antibodies available [http://pdb101.rcsb.org/motm/256](http://pdb101.rcsb.org/motm/256). You can study their topological profiles."
   ]
  },
  {
   "cell_type": "code",
   "execution_count": 7,
   "id": "bc950bd1-6d9d-4c18-a9f5-16f650ab6915",
   "metadata": {},
   "outputs": [
    {
     "name": "stdout",
     "output_type": "stream",
     "text": [
      "/media/apfriend/sabrent/ucsd/classes/dsc190/project/src\n"
     ]
    }
   ],
   "source": [
    "%load_ext autoreload\n",
    "%autoreload 2\n",
    "%cd '../src'\n",
    "# %matplotlib widget\n",
    "%matplotlib inline"
   ]
  },
  {
   "cell_type": "code",
   "execution_count": 8,
   "id": "19b970e0-fba8-4074-a14e-6a883f344b0a",
   "metadata": {},
   "outputs": [
    {
     "data": {
      "application/vnd.jupyter.widget-view+json": {
       "model_id": "714d4e943b6f4c7fa65202493ec58b65",
       "version_major": 2,
       "version_minor": 0
      },
      "text/plain": []
     },
     "metadata": {},
     "output_type": "display_data"
    }
   ],
   "source": [
    "import os\n",
    "import sys\n",
    "import re\n",
    "import warnings\n",
    "import gudhi as gd\n",
    "import pandas as pd\n",
    "import numpy as np\n",
    "import nglview as nv\n",
    "from Bio.PDB import PDBParser\n",
    "from Bio.PDB.PDBExceptions import PDBConstructionWarning"
   ]
  },
  {
   "cell_type": "code",
   "execution_count": 9,
   "id": "b6616f6c-a88d-4200-819c-91130978ae20",
   "metadata": {
    "tags": []
   },
   "outputs": [],
   "source": [
    "# add project directory to path\n",
    "# sys.path.append(os.path.dirname(os.getcwd()))\n",
    "# from scripts import eda\n",
    "import eda as eda\n",
    "import pda as pda\n",
    "\n",
    "\n",
    "#hide discontinuous chain warnings\n",
    "warnings.simplefilter('ignore', PDBConstructionWarning)"
   ]
  },
  {
   "cell_type": "markdown",
   "id": "52caf9e6-e200-452a-b336-3c674432df96",
   "metadata": {},
   "source": [
    "## Example Insulin Protein data\n",
    "### Human Recombinant Insulin (Humalin)\n",
    "Analysing example file of human insulin, file `../data/cleaned/Designer-Insulin/1TRZ.csv`\n",
    "\n",
    "- pdb entry: https://www.rcsb.org/structure/1RTZ"
   ]
  },
  {
   "cell_type": "code",
   "execution_count": 4,
   "id": "e8027415-6b3e-48fc-8e23-273acb60a7b9",
   "metadata": {
    "tags": []
   },
   "outputs": [
    {
     "data": {
      "application/vnd.jupyter.widget-view+json": {
       "model_id": "2de9215d2f6f47b3833aba67c669d444",
       "version_major": 2,
       "version_minor": 0
      },
      "text/plain": [
       "NGLWidget()"
      ]
     },
     "metadata": {},
     "output_type": "display_data"
    }
   ],
   "source": [
    "r_max=5\n",
    "\n",
    "rinsulin_csv_fp='../data/test/csv-data/Designer-Insulins/1trz.csv'\n",
    "rinsulin_pdb_fp='../data/test/pdb-data/Designer-Insulins/1trz.pdb'\n",
    "\n",
    "parser=PDBParser()\n",
    "rinsulin_structure=parser.get_structure('1trz', rinsulin_pdb_fp)\n",
    "nv.show_biopython(rinsulin_structure)"
   ]
  },
  {
   "cell_type": "code",
   "execution_count": 5,
   "id": "2535c399-0a64-41aa-9f2b-c0b85105110a",
   "metadata": {},
   "outputs": [
    {
     "data": {
      "application/vnd.jupyter.widget-view+json": {
       "model_id": "7389b8da07fc4955acb6fbe6f6a4d1ab",
       "version_major": 2,
       "version_minor": 0
      },
      "text/plain": [
       "Canvas(toolbar=Toolbar(toolitems=[('Home', 'Reset original view', 'home', 'home'), ('Back', 'Back to previous …"
      ]
     },
     "metadata": {},
     "output_type": "display_data"
    },
    {
     "data": {
      "application/vnd.jupyter.widget-view+json": {
       "model_id": "ee2031d58a0246ffb28bf202887ff9b7",
       "version_major": 2,
       "version_minor": 0
      },
      "text/plain": [
       "Canvas(toolbar=Toolbar(toolitems=[('Home', 'Reset original view', 'home', 'home'), ('Back', 'Back to previous …"
      ]
     },
     "metadata": {},
     "output_type": "display_data"
    },
    {
     "name": "stdout",
     "output_type": "stream",
     "text": [
      "betti_numbers:  [7, 4]\n",
      "Number of chains:  4\n"
     ]
    }
   ],
   "source": [
    "rinsulin_simplex_tree=eda.load_display_protein(\n",
    "    csv_src=rinsulin_csv_fp,\n",
    "    pdb_src=rinsulin_pdb_fp,\n",
    "    r_max=r_max\n",
    ")"
   ]
  },
  {
   "cell_type": "markdown",
   "id": "cc1e4c4f-ed8c-491b-9b5d-baf96a0533b4",
   "metadata": {},
   "source": [
    "### Human Recombinant Insulin (Lantus)\n",
    "Analysing example file of human insulin, file `../data/cleaned/Designer-Insulin/4iyf.csv`\n",
    "\n",
    "- pdb entry: https://www.rcsb.org/structure/4iyf"
   ]
  },
  {
   "cell_type": "code",
   "execution_count": 6,
   "id": "6ab746b3-53a2-41ed-8c39-66249c3545d1",
   "metadata": {
    "tags": []
   },
   "outputs": [
    {
     "data": {
      "application/vnd.jupyter.widget-view+json": {
       "model_id": "ccc425b881714357a6d3504ac2e922d2",
       "version_major": 2,
       "version_minor": 0
      },
      "text/plain": [
       "NGLWidget()"
      ]
     },
     "metadata": {},
     "output_type": "display_data"
    }
   ],
   "source": [
    "rinsulin2_csv_fp='../data/test/csv-data/Designer-Insulins/4iyf.csv'\n",
    "rinsulin2_pdb_fp='../data/test/pdb-data/Designer-Insulins/4iyf.pdb'\n",
    "\n",
    "parser=PDBParser()\n",
    "rinsulin2_structure=parser.get_structure('4iyf', rinsulin2_pdb_fp)\n",
    "nv.show_biopython(rinsulin2_structure)"
   ]
  },
  {
   "cell_type": "code",
   "execution_count": 7,
   "id": "162359d4-9db5-4483-bcf3-b34583ed77aa",
   "metadata": {},
   "outputs": [
    {
     "data": {
      "application/vnd.jupyter.widget-view+json": {
       "model_id": "c2776ad58079404ca50e5f75fd7b9aed",
       "version_major": 2,
       "version_minor": 0
      },
      "text/plain": [
       "Canvas(toolbar=Toolbar(toolitems=[('Home', 'Reset original view', 'home', 'home'), ('Back', 'Back to previous …"
      ]
     },
     "metadata": {},
     "output_type": "display_data"
    },
    {
     "data": {
      "application/vnd.jupyter.widget-view+json": {
       "model_id": "1cca00c4777545d0a5d6e3ad9bd4896f",
       "version_major": 2,
       "version_minor": 0
      },
      "text/plain": [
       "Canvas(toolbar=Toolbar(toolitems=[('Home', 'Reset original view', 'home', 'home'), ('Back', 'Back to previous …"
      ]
     },
     "metadata": {},
     "output_type": "display_data"
    },
    {
     "name": "stdout",
     "output_type": "stream",
     "text": [
      "betti_numbers:  [1, 0]\n",
      "Number of chains:  2\n"
     ]
    }
   ],
   "source": [
    "rinsulin2_simplex_tree=eda.load_display_protein(\n",
    "    csv_src=rinsulin2_csv_fp,\n",
    "    pdb_src=rinsulin2_pdb_fp,\n",
    "    r_max=r_max\n",
    ")"
   ]
  },
  {
   "cell_type": "markdown",
   "id": "f0da68ae-a2d0-4eb8-993f-c3aaf55bb924",
   "metadata": {},
   "source": [
    "### Human Recombinant Insulin (Tresiba)\n",
    "Analysing example file of human insulin, file `../data/cleaned/Designer-Insulin/4ajx.csv`\n",
    "\n",
    "- pdb entry: https://www.rcsb.org/structure/4ajx"
   ]
  },
  {
   "cell_type": "code",
   "execution_count": 8,
   "id": "3ea84aa3-e6ec-41e5-b7e1-6321b992ac2c",
   "metadata": {},
   "outputs": [
    {
     "data": {
      "application/vnd.jupyter.widget-view+json": {
       "model_id": "d44d042bcfd24cb0813f51b349ac8706",
       "version_major": 2,
       "version_minor": 0
      },
      "text/plain": [
       "NGLWidget()"
      ]
     },
     "metadata": {},
     "output_type": "display_data"
    }
   ],
   "source": [
    "rinsulin3_csv_fp='../data/test/csv-data/Designer-Insulins/4ajx.csv'\n",
    "rinsulin3_pdb_fp='../data/test/pdb-data/Designer-Insulins/4ajx.pdb'\n",
    "\n",
    "rinsulin3_structure=parser.get_structure('4ajx', rinsulin3_pdb_fp)\n",
    "nv.show_biopython(rinsulin3_structure)"
   ]
  },
  {
   "cell_type": "code",
   "execution_count": 9,
   "id": "0947ee2e-005e-4a06-afe9-77242922d5c1",
   "metadata": {},
   "outputs": [
    {
     "data": {
      "application/vnd.jupyter.widget-view+json": {
       "model_id": "2e5998868afc4b15bb899014f8d81abe",
       "version_major": 2,
       "version_minor": 0
      },
      "text/plain": [
       "Canvas(toolbar=Toolbar(toolitems=[('Home', 'Reset original view', 'home', 'home'), ('Back', 'Back to previous …"
      ]
     },
     "metadata": {},
     "output_type": "display_data"
    },
    {
     "data": {
      "application/vnd.jupyter.widget-view+json": {
       "model_id": "6bbb938948ec4ca787603fbf4b1ab269",
       "version_major": 2,
       "version_minor": 0
      },
      "text/plain": [
       "Canvas(toolbar=Toolbar(toolitems=[('Home', 'Reset original view', 'home', 'home'), ('Back', 'Back to previous …"
      ]
     },
     "metadata": {},
     "output_type": "display_data"
    },
    {
     "name": "stdout",
     "output_type": "stream",
     "text": [
      "betti_numbers:  [1, 4]\n",
      "Number of chains:  12\n"
     ]
    }
   ],
   "source": [
    "rinsulin3_simplex_tree=eda.load_display_protein(\n",
    "    csv_src=rinsulin3_csv_fp,\n",
    "    pdb_src=rinsulin3_pdb_fp,\n",
    "    r_max=r_max\n",
    ")"
   ]
  },
  {
   "cell_type": "markdown",
   "id": "6068e9f9-bc18-4971-a895-308103c4e9b6",
   "metadata": {},
   "source": [
    "### Insulin Receptor\n",
    "Analysing example file of human insulin, file `../data/cleaned/Designer-Insulin/1IR3.csv`\n",
    "\n",
    "- pdb entry: https://www.rcsb.org/structure/1IR3"
   ]
  },
  {
   "cell_type": "code",
   "execution_count": 10,
   "id": "37d2ece2-8bc4-49bb-b8fc-663a1f518345",
   "metadata": {},
   "outputs": [
    {
     "data": {
      "application/vnd.jupyter.widget-view+json": {
       "model_id": "374db3938d07420bbfffb7b0ab4fd817",
       "version_major": 2,
       "version_minor": 0
      },
      "text/plain": [
       "NGLWidget()"
      ]
     },
     "metadata": {},
     "output_type": "display_data"
    }
   ],
   "source": [
    "insulin_receptor_csv_fp='../data/test/csv-data/Insulin-Receptor/1IR3.csv'\n",
    "insulin_receptor_pdb_fp='../data/test/pdb-data/Insulin-Receptor/1IR3.pdb'\n",
    "\n",
    "insulin_receptor_structure=parser.get_structure('1IR3', insulin_receptor_pdb_fp)\n",
    "nv.show_biopython(insulin_receptor_structure)"
   ]
  },
  {
   "cell_type": "code",
   "execution_count": 11,
   "id": "ae2808b8-fc9e-434e-b751-dadc6be5d042",
   "metadata": {},
   "outputs": [
    {
     "data": {
      "application/vnd.jupyter.widget-view+json": {
       "model_id": "f0d68cf1252e4caea42e45875c5e4dbe",
       "version_major": 2,
       "version_minor": 0
      },
      "text/plain": [
       "Canvas(toolbar=Toolbar(toolitems=[('Home', 'Reset original view', 'home', 'home'), ('Back', 'Back to previous …"
      ]
     },
     "metadata": {},
     "output_type": "display_data"
    },
    {
     "data": {
      "application/vnd.jupyter.widget-view+json": {
       "model_id": "7467012634e1407289b830188aa13c07",
       "version_major": 2,
       "version_minor": 0
      },
      "text/plain": [
       "Canvas(toolbar=Toolbar(toolitems=[('Home', 'Reset original view', 'home', 'home'), ('Back', 'Back to previous …"
      ]
     },
     "metadata": {},
     "output_type": "display_data"
    },
    {
     "name": "stdout",
     "output_type": "stream",
     "text": [
      "betti_numbers:  [1, 327]\n",
      "Number of chains:  2\n"
     ]
    }
   ],
   "source": [
    "insulin_receptor_tree=eda.load_display_protein(\n",
    "    csv_src=insulin_receptor_csv_fp,\n",
    "    pdb_src=insulin_receptor_pdb_fp,\n",
    "    r_max=4\n",
    ")"
   ]
  },
  {
   "cell_type": "markdown",
   "id": "23b4603c-3ac1-499d-8d64-84ab04f62cf6",
   "metadata": {},
   "source": [
    "### Bovine Insulin\n",
    "Analysing example file of human insulin, file `../data/cleaned/Designer-Insulin/1pid.csv`\n",
    "\n",
    "- pdb entry: https://www.rcsb.org/structure/1pid"
   ]
  },
  {
   "cell_type": "code",
   "execution_count": 12,
   "id": "f7511d0a-0838-4d79-8312-d6c2f4c856bd",
   "metadata": {},
   "outputs": [
    {
     "data": {
      "application/vnd.jupyter.widget-view+json": {
       "model_id": "54dd85721dc2420ea94b8db0c9698322",
       "version_major": 2,
       "version_minor": 0
      },
      "text/plain": [
       "NGLWidget()"
      ]
     },
     "metadata": {},
     "output_type": "display_data"
    }
   ],
   "source": [
    "bovine_insulin_csv_fp='../data/test/csv-data/Bovine-Insulin/1pid.csv'\n",
    "bovine_insulin_pdb_fp='../data/test/pdb-data/Bovine-Insulin/1pid.pdb'\n",
    "\n",
    "bovine_insulin_structure=parser.get_structure('1pid', bovine_insulin_pdb_fp)\n",
    "nv.show_biopython(bovine_insulin_structure)"
   ]
  },
  {
   "cell_type": "code",
   "execution_count": 13,
   "id": "3841531b-d91e-4e2d-8261-ed488116aad0",
   "metadata": {},
   "outputs": [
    {
     "data": {
      "application/vnd.jupyter.widget-view+json": {
       "model_id": "10d44660975e41fbbc8112c91b4fc868",
       "version_major": 2,
       "version_minor": 0
      },
      "text/plain": [
       "Canvas(toolbar=Toolbar(toolitems=[('Home', 'Reset original view', 'home', 'home'), ('Back', 'Back to previous …"
      ]
     },
     "metadata": {},
     "output_type": "display_data"
    },
    {
     "data": {
      "application/vnd.jupyter.widget-view+json": {
       "model_id": "57b53a385d3e4bb6b52252f49d1a4a27",
       "version_major": 2,
       "version_minor": 0
      },
      "text/plain": [
       "Canvas(toolbar=Toolbar(toolitems=[('Home', 'Reset original view', 'home', 'home'), ('Back', 'Back to previous …"
      ]
     },
     "metadata": {},
     "output_type": "display_data"
    },
    {
     "name": "stdout",
     "output_type": "stream",
     "text": [
      "betti_numbers:  [20, 5]\n",
      "Number of chains:  4\n"
     ]
    }
   ],
   "source": [
    "bovine_simplex_tree=eda.load_display_protein(\n",
    "    csv_src=bovine_insulin_csv_fp,\n",
    "    pdb_src=bovine_insulin_pdb_fp,\n",
    "    r_max=r_max\n",
    ")"
   ]
  },
  {
   "cell_type": "markdown",
   "id": "38a1e1ab-f62a-40e5-82bc-f5843a9ecafe",
   "metadata": {},
   "source": [
    "### Insulin Receptor\n",
    "Analysing example file of insulin receptor, file `../data/test/csv-data/Insulin-Receptor/1IRK.csv`\n",
    "\n",
    "- pdb entry: https://www.rcsb.org/structure/1IRK"
   ]
  },
  {
   "cell_type": "code",
   "execution_count": 14,
   "id": "bf9fe800-9d51-4ce2-a044-77b5d66825d8",
   "metadata": {
    "tags": []
   },
   "outputs": [
    {
     "data": {
      "application/vnd.jupyter.widget-view+json": {
       "model_id": "afc82c6b39ea48cbbc66be091e535791",
       "version_major": 2,
       "version_minor": 0
      },
      "text/plain": [
       "NGLWidget()"
      ]
     },
     "metadata": {},
     "output_type": "display_data"
    }
   ],
   "source": [
    "insulin_receptor2_csv_fp='../data/test/csv-data/Insulin-Receptor/1IRK.csv'\n",
    "insulin_receptor2_pdb_fp='../data/test/pdb-data/Insulin-Receptor/1IRK.pdb'\n",
    "\n",
    "insulin_receptor2_structure=parser.get_structure('1IRK', insulin_receptor2_pdb_fp)\n",
    "nv.show_biopython(insulin_receptor2_structure)"
   ]
  },
  {
   "cell_type": "code",
   "execution_count": 15,
   "id": "846b43a6-6bfb-4214-a881-bf42653666af",
   "metadata": {
    "tags": []
   },
   "outputs": [
    {
     "data": {
      "application/vnd.jupyter.widget-view+json": {
       "model_id": "cf878461f60f424088cfc85285b0d895",
       "version_major": 2,
       "version_minor": 0
      },
      "text/plain": [
       "Canvas(toolbar=Toolbar(toolitems=[('Home', 'Reset original view', 'home', 'home'), ('Back', 'Back to previous …"
      ]
     },
     "metadata": {},
     "output_type": "display_data"
    },
    {
     "data": {
      "application/vnd.jupyter.widget-view+json": {
       "model_id": "2bdd4cc589cb49beb016041a482d212f",
       "version_major": 2,
       "version_minor": 0
      },
      "text/plain": [
       "Canvas(toolbar=Toolbar(toolitems=[('Home', 'Reset original view', 'home', 'home'), ('Back', 'Back to previous …"
      ]
     },
     "metadata": {},
     "output_type": "display_data"
    },
    {
     "name": "stdout",
     "output_type": "stream",
     "text": [
      "betti_numbers:  [1, 3]\n",
      "Number of chains:  1\n"
     ]
    }
   ],
   "source": [
    "insulin_receptor2_simplex_tree=eda.load_display_protein(\n",
    "    csv_src=insulin_receptor2_csv_fp,\n",
    "    pdb_src=insulin_receptor2_pdb_fp,\n",
    "    r_max=r_max\n",
    ")"
   ]
  },
  {
   "cell_type": "markdown",
   "id": "81e4ff48-c343-4c43-a7c9-e151ddbd7e44",
   "metadata": {},
   "source": [
    "### Glucagon\n",
    "Analysing example file of glucagon, file `../data/cleaned/Glucagon/3IOL.csv`\n",
    "\n",
    "- pdb entry: https://www.rcsb.org/structure/3IOL"
   ]
  },
  {
   "cell_type": "code",
   "execution_count": 16,
   "id": "a6681a8b-df11-458a-9856-50e34fd6236c",
   "metadata": {},
   "outputs": [
    {
     "data": {
      "application/vnd.jupyter.widget-view+json": {
       "model_id": "e1c01a5fcb3b4b2dbc61093b8226dab8",
       "version_major": 2,
       "version_minor": 0
      },
      "text/plain": [
       "NGLWidget()"
      ]
     },
     "metadata": {},
     "output_type": "display_data"
    }
   ],
   "source": [
    "glucagon_csv_fp='../data/test/csv-data/Glucagon/3IOL.csv'\n",
    "glucagon_pdb_fp='../data/test/pdb-data/Glucagon/3IOL.pdb'\n",
    "\n",
    "glucagon_structure=parser.get_structure('3IOL', glucagon_pdb_fp)\n",
    "nv.show_biopython(glucagon_structure)"
   ]
  },
  {
   "cell_type": "code",
   "execution_count": 17,
   "id": "e58bc934-4b01-44e4-b74d-b06d49ab837d",
   "metadata": {},
   "outputs": [
    {
     "data": {
      "application/vnd.jupyter.widget-view+json": {
       "model_id": "b83cf8bf7bd0492892f63ac4d85232a4",
       "version_major": 2,
       "version_minor": 0
      },
      "text/plain": [
       "Canvas(toolbar=Toolbar(toolitems=[('Home', 'Reset original view', 'home', 'home'), ('Back', 'Back to previous …"
      ]
     },
     "metadata": {},
     "output_type": "display_data"
    },
    {
     "data": {
      "application/vnd.jupyter.widget-view+json": {
       "model_id": "fb53eb45cf6b498781056083f3f2db84",
       "version_major": 2,
       "version_minor": 0
      },
      "text/plain": [
       "Canvas(toolbar=Toolbar(toolitems=[('Home', 'Reset original view', 'home', 'home'), ('Back', 'Back to previous …"
      ]
     },
     "metadata": {},
     "output_type": "display_data"
    },
    {
     "name": "stdout",
     "output_type": "stream",
     "text": [
      "betti_numbers:  [1, 1]\n",
      "Number of chains:  2\n"
     ]
    }
   ],
   "source": [
    "insulin_receptor2_simplex_tree=eda.load_display_protein(\n",
    "    csv_src=glucagon_csv_fp,\n",
    "    pdb_src=glucagon_pdb_fp,\n",
    "    r_max=r_max\n",
    ")"
   ]
  },
  {
   "cell_type": "markdown",
   "id": "ddd01ce7-4074-4ed5-b58f-963c13f36710",
   "metadata": {},
   "source": [
    "### Seneca Valley Virus\n",
    "Analysing example file of human insulin, file `../data/cleaned/Seneca-Valley-Virus/3cji.csv`\n",
    "\n",
    "- pdb entry: https://www.rcsb.org/structure/3cji"
   ]
  },
  {
   "cell_type": "code",
   "execution_count": 18,
   "id": "defefb16-19a6-4c17-99a4-426d1e5d2c23",
   "metadata": {},
   "outputs": [
    {
     "data": {
      "application/vnd.jupyter.widget-view+json": {
       "model_id": "dc58d6c33c3f4c47a77c11c5a4d95847",
       "version_major": 2,
       "version_minor": 0
      },
      "text/plain": [
       "NGLWidget()"
      ]
     },
     "metadata": {},
     "output_type": "display_data"
    }
   ],
   "source": [
    "sv_virus_csv_fp='../data/test/csv-data/Seneca-Valley-Virus/3cji.csv'\n",
    "sv_virus_pdb_fp='../data/test/pdb-data/Seneca-Valley-Virus/3cji.pdb'\n",
    "\n",
    "sv_virus_structure=parser.get_structure('3cji', sv_virus_pdb_fp)\n",
    "nv.show_biopython(sv_virus_structure)"
   ]
  },
  {
   "cell_type": "code",
   "execution_count": 19,
   "id": "78dfb867-77c3-412e-a6e8-8f5b82e54f48",
   "metadata": {},
   "outputs": [
    {
     "data": {
      "application/vnd.jupyter.widget-view+json": {
       "model_id": "4de0f67eba564464bf791e22251f9f22",
       "version_major": 2,
       "version_minor": 0
      },
      "text/plain": [
       "Canvas(toolbar=Toolbar(toolitems=[('Home', 'Reset original view', 'home', 'home'), ('Back', 'Back to previous …"
      ]
     },
     "metadata": {},
     "output_type": "display_data"
    },
    {
     "data": {
      "application/vnd.jupyter.widget-view+json": {
       "model_id": "239e29378c7e44029e1eb507440ad67c",
       "version_major": 2,
       "version_minor": 0
      },
      "text/plain": [
       "Canvas(toolbar=Toolbar(toolitems=[('Home', 'Reset original view', 'home', 'home'), ('Back', 'Back to previous …"
      ]
     },
     "metadata": {},
     "output_type": "display_data"
    },
    {
     "name": "stdout",
     "output_type": "stream",
     "text": [
      "betti_numbers:  [2, 9]\n",
      "Number of chains:  0\n"
     ]
    }
   ],
   "source": [
    "sv_virus_simplex_tree=eda.load_display_protein(\n",
    "    csv_src=sv_virus_csv_fp,\n",
    "    pdb_src=sv_virus_csv_fp,\n",
    "    r_max=r_max\n",
    ")"
   ]
  },
  {
   "cell_type": "markdown",
   "id": "9066cf16-818c-4ec8-99c8-d63ea4ae6374",
   "metadata": {},
   "source": [
    "### SARS-COV Spike Protein\n",
    "Analysing example file of human insulin, file `../data/test/csv-data/Sars-Cov-Spike/6crz.csv`\n",
    "\n",
    "- pdb entry: https://www.rcsb.org/structure/3cji"
   ]
  },
  {
   "cell_type": "code",
   "execution_count": 20,
   "id": "869dce67-9b81-4728-90a7-1dcf120555fe",
   "metadata": {},
   "outputs": [
    {
     "data": {
      "application/vnd.jupyter.widget-view+json": {
       "model_id": "2d58f22bffe3418cba33d1760b2ab309",
       "version_major": 2,
       "version_minor": 0
      },
      "text/plain": [
       "NGLWidget()"
      ]
     },
     "metadata": {},
     "output_type": "display_data"
    }
   ],
   "source": [
    "sars_csv_fp='../data/test/csv-data/Sars-Cov-Spike/6crz.csv'\n",
    "sars_pdb_fp='../data/test/pdb-data/Sars-Cov-Spike/6crz.pdb'\n",
    "\n",
    "sars_structure=parser.get_structure('6crz', sars_pdb_fp)\n",
    "nv.show_biopython(sars_structure)"
   ]
  },
  {
   "cell_type": "code",
   "execution_count": 21,
   "id": "27aa4220-9d71-4ae2-9fc6-72bd96e14b11",
   "metadata": {},
   "outputs": [
    {
     "data": {
      "application/vnd.jupyter.widget-view+json": {
       "model_id": "d7a33b3af0714342b6d2d3a893f94c3a",
       "version_major": 2,
       "version_minor": 0
      },
      "text/plain": [
       "Canvas(toolbar=Toolbar(toolitems=[('Home', 'Reset original view', 'home', 'home'), ('Back', 'Back to previous …"
      ]
     },
     "metadata": {},
     "output_type": "display_data"
    },
    {
     "data": {
      "application/vnd.jupyter.widget-view+json": {
       "model_id": "f23ff089a15041f5bca3bcff9d8ffd79",
       "version_major": 2,
       "version_minor": 0
      },
      "text/plain": [
       "Canvas(toolbar=Toolbar(toolitems=[('Home', 'Reset original view', 'home', 'home'), ('Back', 'Back to previous …"
      ]
     },
     "metadata": {},
     "output_type": "display_data"
    },
    {
     "name": "stdout",
     "output_type": "stream",
     "text": [
      "betti_numbers:  [1, 421]\n",
      "Number of chains:  22\n"
     ]
    }
   ],
   "source": [
    "sars_simplex_tree=eda.load_display_protein(\n",
    "    csv_src=sars_csv_fp,\n",
    "    pdb_src=sars_pdb_fp,\n",
    "    r_max=r_max\n",
    ")"
   ]
  },
  {
   "cell_type": "markdown",
   "id": "638cccea-f725-4b9a-8c2b-9fe44bc8852b",
   "metadata": {},
   "source": [
    "### SARS-COV-2 \n",
    "Analysing example file of human insulin, file `../data/cleaned/Sars-Cov-2-Spike/6VXX.csv`\n",
    "\n",
    "- pdb entry: https://www.rcsb.org/structure/6VXX"
   ]
  },
  {
   "cell_type": "code",
   "execution_count": 22,
   "id": "e75d738b-da5c-4d0b-8aba-493b8213d34a",
   "metadata": {},
   "outputs": [
    {
     "data": {
      "application/vnd.jupyter.widget-view+json": {
       "model_id": "bc7c88ba8fe14b9a9a2d455dca6b32ff",
       "version_major": 2,
       "version_minor": 0
      },
      "text/plain": [
       "NGLWidget()"
      ]
     },
     "metadata": {},
     "output_type": "display_data"
    }
   ],
   "source": [
    "covid_csv_fp='../data/test/csv-data/Sars-Cov-2-Spike/6VXX.csv'\n",
    "covid_pdb_fp='../data/test/pdb-data/Sars-Cov-2-Spike/6VXX.pdb'\n",
    "\n",
    "covid_structure=parser.get_structure('6VXX', covid_pdb_fp)\n",
    "nv.show_biopython(covid_structure)"
   ]
  },
  {
   "cell_type": "code",
   "execution_count": 23,
   "id": "905d6899-18f6-47ca-b40b-c5de4d091b40",
   "metadata": {},
   "outputs": [
    {
     "data": {
      "application/vnd.jupyter.widget-view+json": {
       "model_id": "bd033f2929754d4e9a05e0fe61d0d60f",
       "version_major": 2,
       "version_minor": 0
      },
      "text/plain": [
       "Canvas(toolbar=Toolbar(toolitems=[('Home', 'Reset original view', 'home', 'home'), ('Back', 'Back to previous …"
      ]
     },
     "metadata": {},
     "output_type": "display_data"
    },
    {
     "data": {
      "application/vnd.jupyter.widget-view+json": {
       "model_id": "2d2c978b60b44f0396463201cd707bd2",
       "version_major": 2,
       "version_minor": 0
      },
      "text/plain": [
       "Canvas(toolbar=Toolbar(toolitems=[('Home', 'Reset original view', 'home', 'home'), ('Back', 'Back to previous …"
      ]
     },
     "metadata": {},
     "output_type": "display_data"
    },
    {
     "name": "stdout",
     "output_type": "stream",
     "text": [
      "betti_numbers:  [1, 205]\n",
      "Number of chains:  18\n"
     ]
    }
   ],
   "source": [
    "covid_simplex_tree=eda.load_display_protein(\n",
    "    csv_src=covid_csv_fp,\n",
    "    pdb_src=covid_pdb_fp,\n",
    "    r_max=r_max\n",
    ")"
   ]
  },
  {
   "cell_type": "markdown",
   "id": "37942589-9b96-47c2-8792-068291711782",
   "metadata": {},
   "source": [
    "### Drug Resistant Common Cold \n",
    "Analysing example file of human insulin, file `../data/cleaned/Common-Cold/2rmu.csv`\n",
    "\n",
    "- pdb entry: https://www.rcsb.org/structure/2rmu"
   ]
  },
  {
   "cell_type": "code",
   "execution_count": 24,
   "id": "316844a8-1541-4f5e-aa84-30e8d985cd60",
   "metadata": {},
   "outputs": [
    {
     "data": {
      "application/vnd.jupyter.widget-view+json": {
       "model_id": "71dd1ff124bf45d48c6607982074bf73",
       "version_major": 2,
       "version_minor": 0
      },
      "text/plain": [
       "NGLWidget()"
      ]
     },
     "metadata": {},
     "output_type": "display_data"
    }
   ],
   "source": [
    "cold_csv_fp='../data/test/csv-data/Common-Cold/2rmu.csv'\n",
    "cold_pdb_fp='../data/test/pdb-data/Common-Cold/2rmu.pdb'\n",
    "\n",
    "cold_structure=parser.get_structure('2rmu', cold_pdb_fp)\n",
    "nv.show_biopython(cold_structure)"
   ]
  },
  {
   "cell_type": "code",
   "execution_count": 25,
   "id": "ca40823c-26a0-4df5-a45d-803c2e264f3e",
   "metadata": {},
   "outputs": [
    {
     "data": {
      "application/vnd.jupyter.widget-view+json": {
       "model_id": "b07b0242a2a54a939d882cd26b2cc4a6",
       "version_major": 2,
       "version_minor": 0
      },
      "text/plain": [
       "Canvas(toolbar=Toolbar(toolitems=[('Home', 'Reset original view', 'home', 'home'), ('Back', 'Back to previous …"
      ]
     },
     "metadata": {},
     "output_type": "display_data"
    },
    {
     "data": {
      "application/vnd.jupyter.widget-view+json": {
       "model_id": "1e78493cdc9942c8892745b331f93ccf",
       "version_major": 2,
       "version_minor": 0
      },
      "text/plain": [
       "Canvas(toolbar=Toolbar(toolitems=[('Home', 'Reset original view', 'home', 'home'), ('Back', 'Back to previous …"
      ]
     },
     "metadata": {},
     "output_type": "display_data"
    },
    {
     "name": "stdout",
     "output_type": "stream",
     "text": [
      "betti_numbers:  [1, 19]\n",
      "Number of chains:  4\n"
     ]
    }
   ],
   "source": [
    "cold_simplex_tree=eda.load_display_protein(\n",
    "    csv_src=cold_csv_fp,\n",
    "    pdb_src=cold_pdb_fp,\n",
    "    r_max=r_max\n",
    ")"
   ]
  },
  {
   "cell_type": "markdown",
   "id": "53c7d1cd-cd1e-4921-a0c1-5ad005e803df",
   "metadata": {},
   "source": [
    "### Ebola\n",
    "Analysing example file of human insulin, file `../data/cleaned/Ebola/1H2C.csv`\n",
    "\n",
    "- pdb entry: https://www.rcsb.org/structure/1H2C"
   ]
  },
  {
   "cell_type": "code",
   "execution_count": 10,
   "id": "efe09741-cdf1-4efb-8f78-5d3904deacdf",
   "metadata": {},
   "outputs": [
    {
     "data": {
      "application/vnd.jupyter.widget-view+json": {
       "model_id": "35a4c043c71e4d1eadf43fa3625e2bda",
       "version_major": 2,
       "version_minor": 0
      },
      "text/plain": [
       "NGLWidget()"
      ]
     },
     "metadata": {},
     "output_type": "display_data"
    }
   ],
   "source": [
    "ebola_csv_fp='../data/test/csv-data/Ebola/1H2C.csv'\n",
    "ebola_pdb_fp='../data/test/pdb-data/Ebola/1H2C.pdb'\n",
    "\n",
    "ebola_structure=parser.get_structure('1H2C', ebola_pdb_fp)\n",
    "nv.show_biopython(ebola_structure)"
   ]
  },
  {
   "cell_type": "code",
   "execution_count": 13,
   "id": "7d0f4f6e-e11c-433b-8df5-061dd9065b93",
   "metadata": {},
   "outputs": [
    {
     "data": {
      "application/vnd.jupyter.widget-view+json": {
       "model_id": "b867aa79068c4805ac0c94e29f3d3128",
       "version_major": 2,
       "version_minor": 0
      },
      "text/plain": [
       "Canvas(toolbar=Toolbar(toolitems=[('Home', 'Reset original view', 'home', 'home'), ('Back', 'Back to previous …"
      ]
     },
     "metadata": {},
     "output_type": "display_data"
    },
    {
     "data": {
      "application/vnd.jupyter.widget-view+json": {
       "model_id": "38dffd51602d47ccb5c5fde0afa23b05",
       "version_major": 2,
       "version_minor": 0
      },
      "text/plain": [
       "Canvas(toolbar=Toolbar(toolitems=[('Home', 'Reset original view', 'home', 'home'), ('Back', 'Back to previous …"
      ]
     },
     "metadata": {},
     "output_type": "display_data"
    },
    {
     "name": "stdout",
     "output_type": "stream",
     "text": [
      "betti_numbers:  [1, 0]\n",
      "Number of chains:  2\n"
     ]
    }
   ],
   "source": [
    "ebola_simplex_tree=eda.load_display_protein(\n",
    "    csv_src=ebola_csv_fp,\n",
    "    pdb_src=ebola_pdb_fp,\n",
    "    r_max=r_max\n",
    ")"
   ]
  },
  {
   "cell_type": "markdown",
   "id": "b8ae8882-9dd1-4ef1-99c9-b6e259660f85",
   "metadata": {},
   "source": [
    "### Compute Rips Complex for Molecular Point cloud (With no Max distance between Atoms)"
   ]
  },
  {
   "cell_type": "code",
   "execution_count": 17,
   "id": "b390a8ed-b5f8-4512-b024-0c2e2c76e9c1",
   "metadata": {
    "collapsed": true,
    "jupyter": {
     "outputs_hidden": true
    },
    "tags": []
   },
   "outputs": [
    {
     "data": {
      "application/vnd.jupyter.widget-view+json": {
       "model_id": "dba99b1d785a40d4bf05ef1c438fb720",
       "version_major": 2,
       "version_minor": 0
      },
      "text/plain": [
       "Canvas(toolbar=Toolbar(toolitems=[('Home', 'Reset original view', 'home', 'home'), ('Back', 'Back to previous …"
      ]
     },
     "metadata": {},
     "output_type": "display_data"
    },
    {
     "name": "stdout",
     "output_type": "stream",
     "text": [
      "[4, 2]\n"
     ]
    }
   ],
   "source": [
    "r_max=6\n",
    "insulin_rips_complex=pda.rips_complex(insulin_point_data, r_max=r_max)\n",
    "insulin_simplex_tree=insulin_rips_complex.create_simplex_tree(max_dimension=2)\n",
    "\n",
    "eda.plot_rips_persistence_diagram(simplex_tree=insulin_simplex_tree)\n",
    "print(insulin_simplex_tree.betti_numbers())"
   ]
  },
  {
   "cell_type": "markdown",
   "id": "eae3ce60-25e7-4839-a710-1ac5d0765d07",
   "metadata": {},
   "source": [
    "Since not all atoms are bonded to each other however, it makes sense to limit the edge weight.\n",
    "\n",
    "### Compute Rips Complex for Molecular Point cloud (`max_edge_length=10`)"
   ]
  },
  {
   "cell_type": "code",
   "execution_count": 12,
   "id": "5ed06429-1692-4665-8f16-ae149aaf7460",
   "metadata": {
    "collapsed": true,
    "jupyter": {
     "outputs_hidden": true
    },
    "tags": []
   },
   "outputs": [
    {
     "data": {
      "application/vnd.jupyter.widget-view+json": {
       "model_id": "89a1c96445b8426ab0aab71e3d2de7e6",
       "version_major": 2,
       "version_minor": 0
      },
      "text/plain": [
       "Canvas(toolbar=Toolbar(toolitems=[('Home', 'Reset original view', 'home', 'home'), ('Back', 'Back to previous …"
      ]
     },
     "metadata": {},
     "output_type": "display_data"
    }
   ],
   "source": [
    "insulin_rips_complex=pda.rips_complex(\n",
    "    data=insulin_point_data,\n",
    "    r_max=10\n",
    "    \n",
    ")\n",
    "insulin_simplex_tree=insulin_rips_complex.create_simplex_tree(max_dimension=2)\n",
    "\n",
    "eda.plot_rips_persistence_diagram(simplex_tree=insulin_simplex_tree)"
   ]
  },
  {
   "cell_type": "code",
   "execution_count": 13,
   "id": "76332691-1ef6-4751-86e0-d8a1cb24f01e",
   "metadata": {},
   "outputs": [
    {
     "data": {
      "text/plain": [
       "[1, 0]"
      ]
     },
     "execution_count": 13,
     "metadata": {},
     "output_type": "execute_result"
    }
   ],
   "source": [
    "insulin_simplex_tree.betti_numbers()"
   ]
  },
  {
   "cell_type": "code",
   "execution_count": 14,
   "id": "f9e74ad0-ef08-4e01-af7c-b2a1f82f5499",
   "metadata": {},
   "outputs": [
    {
     "data": {
      "application/vnd.jupyter.widget-view+json": {
       "model_id": "c2ed653fe7c546f8b2affbba07a020cd",
       "version_major": 2,
       "version_minor": 0
      },
      "text/plain": [
       "Canvas(toolbar=Toolbar(toolitems=[('Home', 'Reset original view', 'home', 'home'), ('Back', 'Back to previous …"
      ]
     },
     "metadata": {},
     "output_type": "display_data"
    },
    {
     "name": "stdout",
     "output_type": "stream",
     "text": [
      "[57, 59]\n"
     ]
    }
   ],
   "source": [
    "insulin_rips_complex=pda.rips_complex(\n",
    "    data=insulin_point_data,\n",
    "    r_max=3\n",
    "    \n",
    ")\n",
    "insulin_simplex_tree=insulin_rips_complex.create_simplex_tree(max_dimension=2)\n",
    "\n",
    "eda.plot_rips_persistence_diagram(simplex_tree=insulin_simplex_tree)\n",
    "print(insulin_simplex_tree.betti_numbers())"
   ]
  },
  {
   "cell_type": "code",
   "execution_count": 15,
   "id": "01f34adf-1e7e-4522-b664-77f6906e2277",
   "metadata": {},
   "outputs": [
    {
     "data": {
      "text/plain": [
       "5658"
      ]
     },
     "execution_count": 15,
     "metadata": {},
     "output_type": "execute_result"
    }
   ],
   "source": [
    "insulin_simplex_tree.num_simplices()"
   ]
  },
  {
   "cell_type": "code",
   "execution_count": 21,
   "id": "b1919dec-007e-4213-96e3-8364694d8035",
   "metadata": {},
   "outputs": [
    {
     "name": "stdout",
     "output_type": "stream",
     "text": [
      "Help on built-in function write_persistence_diagram:\n",
      "\n",
      "write_persistence_diagram(...) method of gudhi.simplex_tree.SimplexTree instance\n",
      "    This function writes the persistence intervals of the simplicial\n",
      "    complex in a user given file name.\n",
      "    \n",
      "    :param persistence_file: Name of the file.\n",
      "    :type persistence_file: string\n",
      "    \n",
      "    :note: intervals_in_dim function requires\n",
      "        :func:`compute_persistence`\n",
      "        function to be launched first.\n",
      "\n"
     ]
    }
   ],
   "source": [
    "help(insulin_simplex_tree.write_persistence_diagram)"
   ]
  },
  {
   "cell_type": "code",
   "execution_count": 14,
   "id": "aa783199-0019-4275-9998-92562e6076ae",
   "metadata": {},
   "outputs": [
    {
     "data": {
      "text/plain": [
       "[]"
      ]
     },
     "execution_count": 14,
     "metadata": {},
     "output_type": "execute_result"
    }
   ],
   "source": [
    "[p for p in insulin_simplex_tree.persistence() if p[0]==1]"
   ]
  },
  {
   "cell_type": "markdown",
   "id": "6bb8ba0a-449c-43f8-8a95-52fc154ec23b",
   "metadata": {},
   "source": [
    "## Compare to Coronavirus Protease"
   ]
  },
  {
   "cell_type": "code",
   "execution_count": 5,
   "id": "fd7c4cd6-ae0d-4108-a651-7f2add541fe5",
   "metadata": {},
   "outputs": [
    {
     "data": {
      "application/vnd.jupyter.widget-view+json": {
       "model_id": "0e072e447b4d4a568fc78dc458f782d6",
       "version_major": 2,
       "version_minor": 0
      },
      "text/plain": [
       "Canvas(toolbar=Toolbar(toolitems=[('Home', 'Reset original view', 'home', 'home'), ('Back', 'Back to previous …"
      ]
     },
     "metadata": {},
     "output_type": "display_data"
    },
    {
     "data": {
      "application/vnd.jupyter.widget-view+json": {
       "model_id": "91122d0cf2cf44a4bbb01ca4537c87d6",
       "version_major": 2,
       "version_minor": 0
      },
      "text/plain": [
       "Canvas(toolbar=Toolbar(toolitems=[('Home', 'Reset original view', 'home', 'home'), ('Back', 'Back to previous …"
      ]
     },
     "metadata": {},
     "output_type": "display_data"
    }
   ],
   "source": [
    "covid_csv_fp='../data/csv-data/Coronavirus-Protease/4yoi.csv'\n",
    "covid_pdb_fp='../data/pdb-data/Coronavirus-Protease/4yoi.pdb'\n",
    "# fp=os.path.join(datapath, fn)\n",
    "covid_simplex_tree=eda.load_display_protein(\n",
    "    csv_src=covid_csv_fp,\n",
    "    pdb_src=covid_pdb_fp,\n",
    "    r_max=6\n",
    ")"
   ]
  },
  {
   "cell_type": "code",
   "execution_count": 6,
   "id": "5ed06077-f018-4c9c-ab8a-4c0cc18b847e",
   "metadata": {},
   "outputs": [
    {
     "data": {
      "application/vnd.jupyter.widget-view+json": {
       "model_id": "8f49d1b29e75409ea796dfe1eee779c9",
       "version_major": 2,
       "version_minor": 0
      },
      "text/plain": [
       "NGLWidget()"
      ]
     },
     "metadata": {},
     "output_type": "display_data"
    }
   ],
   "source": [
    "parser=PDBParser()\n",
    "structure=parser.get_structure('4yoi', covid_pdb_fp)\n",
    "nv.show_biopython(structure)"
   ]
  },
  {
   "cell_type": "code",
   "execution_count": 19,
   "id": "1e72e27b-0969-4387-a7f1-3228268ad329",
   "metadata": {},
   "outputs": [
    {
     "data": {
      "text/plain": [
       "[<Chain id=A>, <Chain id=B>]"
      ]
     },
     "execution_count": 19,
     "metadata": {},
     "output_type": "execute_result"
    }
   ],
   "source": [
    "list(structure.get_chains())"
   ]
  },
  {
   "cell_type": "markdown",
   "id": "310689a9-fea2-4e3d-8c9d-d7ff16b3ef8c",
   "metadata": {},
   "source": [
    "## Glucagon"
   ]
  },
  {
   "cell_type": "code",
   "execution_count": 14,
   "id": "e1d898f1-5da9-4d34-869b-0f617c40accf",
   "metadata": {},
   "outputs": [
    {
     "data": {
      "application/vnd.jupyter.widget-view+json": {
       "model_id": "dedeee6ea257434d8a739430114155e5",
       "version_major": 2,
       "version_minor": 0
      },
      "text/plain": [
       "Canvas(toolbar=Toolbar(toolitems=[('Home', 'Reset original view', 'home', 'home'), ('Back', 'Back to previous …"
      ]
     },
     "metadata": {},
     "output_type": "display_data"
    },
    {
     "data": {
      "application/vnd.jupyter.widget-view+json": {
       "model_id": "bc189ad3f31b4c4e809eaed9d80c5033",
       "version_major": 2,
       "version_minor": 0
      },
      "text/plain": [
       "Canvas(toolbar=Toolbar(toolitems=[('Home', 'Reset original view', 'home', 'home'), ('Back', 'Back to previous …"
      ]
     },
     "metadata": {},
     "output_type": "display_data"
    }
   ],
   "source": [
    "glucagon_scv_fp='../data/csv-data/Glucagon/1GCN.csv'\n",
    "glucagon_pdb_fp='../data/pdb-data/Glucagon/1GCN.pdb'\n",
    "\n",
    "glucagon_simplex_tree=eda.load_display_protein(\n",
    "    csv_src=glucagon_scv_fp,\n",
    "    pdb_src=glucagon_pdb_fp,\n",
    "    r_max=6\n",
    ")"
   ]
  },
  {
   "cell_type": "code",
   "execution_count": 15,
   "id": "f0997386-0659-4525-9fd4-229776b88ebc",
   "metadata": {},
   "outputs": [
    {
     "data": {
      "application/vnd.jupyter.widget-view+json": {
       "model_id": "d2671ec62c74414a87b6d91d97ddf30c",
       "version_major": 2,
       "version_minor": 0
      },
      "text/plain": [
       "NGLWidget()"
      ]
     },
     "metadata": {},
     "output_type": "display_data"
    }
   ],
   "source": [
    "glucagon_structure=parser.get_structure('1GCN', glucagon_pdb_fp)\n",
    "nv.show_biopython(glucagon_structure)"
   ]
  },
  {
   "cell_type": "markdown",
   "id": "dbe03c34-cbe9-49c4-92f3-dbce5b2fd0a6",
   "metadata": {},
   "source": [
    "## Prions"
   ]
  },
  {
   "cell_type": "code",
   "execution_count": 4,
   "id": "2cd9a621-8913-413f-a7fe-0255f2a4a6b1",
   "metadata": {},
   "outputs": [
    {
     "data": {
      "application/vnd.jupyter.widget-view+json": {
       "model_id": "d62fbaa6b4b343259c4ada620c0c4d54",
       "version_major": 2,
       "version_minor": 0
      },
      "text/plain": [
       "Canvas(toolbar=Toolbar(toolitems=[('Home', 'Reset original view', 'home', 'home'), ('Back', 'Back to previous …"
      ]
     },
     "metadata": {},
     "output_type": "display_data"
    },
    {
     "data": {
      "application/vnd.jupyter.widget-view+json": {
       "model_id": "77efc3615d924034aaf2b4a89571857a",
       "version_major": 2,
       "version_minor": 0
      },
      "text/plain": [
       "Canvas(toolbar=Toolbar(toolitems=[('Home', 'Reset original view', 'home', 'home'), ('Back', 'Back to previous …"
      ]
     },
     "metadata": {},
     "output_type": "display_data"
    }
   ],
   "source": [
    "prion_csv_fp='../data/csv-data/Prions/1QM2.csv'\n",
    "prion_pdb_fp='../data/pdb-data/Prions/1QM2.pdb'\n",
    "\n",
    "prion_simplex_tree=eda.load_display_protein(\n",
    "    csv_src=prion_csv_fp,\n",
    "    pdb_src=prion_pdb_fp,\n",
    "    r_max=5\n",
    ")"
   ]
  },
  {
   "cell_type": "code",
   "execution_count": 6,
   "id": "6d2df593-d4a8-4897-a39d-bd692d538600",
   "metadata": {},
   "outputs": [
    {
     "data": {
      "application/vnd.jupyter.widget-view+json": {
       "model_id": "2451ecea4d5a4e62906a52c24551d730",
       "version_major": 2,
       "version_minor": 0
      },
      "text/plain": [
       "NGLWidget()"
      ]
     },
     "metadata": {},
     "output_type": "display_data"
    }
   ],
   "source": [
    "parser=PDBParser()\n",
    "prion_structure=parser.get_structure('1QM2', prion_pdb_fp)\n",
    "nv.show_biopython(prion_structure)"
   ]
  },
  {
   "cell_type": "markdown",
   "id": "d315bcd3-1ed5-4097-ba99-549efafbfb5a",
   "metadata": {},
   "source": [
    "## Large files seem to be causing trouble\n",
    "\n",
    "Copy files under 150MB to new folder"
   ]
  },
  {
   "cell_type": "code",
   "execution_count": 29,
   "id": "27b843fd-40a9-480f-9d14-583b02ec033a",
   "metadata": {},
   "outputs": [
    {
     "data": {
      "application/vnd.jupyter.widget-view+json": {
       "model_id": "b25caac9cd86497a9c9d7752d9f24544",
       "version_major": 2,
       "version_minor": 0
      },
      "text/plain": [
       "  0%|          | 0/478 [00:00<?, ?it/s]"
      ]
     },
     "metadata": {},
     "output_type": "display_data"
    }
   ],
   "source": [
    "from glob import glob\n",
    "import shutil\n",
    "from tqdm.auto import tqdm\n",
    "\n",
    "csv_files=glob('../data/csv-data/*/*.csv')\n",
    "pdb_files=glob('../data/pdb-data/*/*.csv')\n",
    "\n",
    "csv_dst='../data/test/csv-data'\n",
    "pdb_dst='../data/test/pdb-data'\n",
    "\n",
    "max_file_size=150*(2**10)\n",
    "\n",
    "for file in tqdm(csv_files):\n",
    "    try:\n",
    "        if pda.get_size_of(file)<max_file_size:\n",
    "            csv_fn=os.path.basename(file)\n",
    "            folder=os.path.basename(os.path.dirname(file))\n",
    "            pdb_fn=os.path.basename(file).replace('.csv','.pdb')\n",
    "            pdb_fp=os.path.join('../data/pdb-data',folder,pdb_fn)\n",
    "\n",
    "\n",
    "\n",
    "            os.makedirs(os.path.join(csv_dst, folder), exist_ok=True)\n",
    "            shutil.copyfile(file, os.path.join(csv_dst, folder, csv_fn))\n",
    "            os.makedirs(os.path.join(pdb_dst, folder), exist_ok=True)\n",
    "            shutil.copyfile(pdb_fp, os.path.join(pdb_dst, folder, pdb_fn))\n",
    "    except FileNotFoundError as e:\n",
    "        print(\"%s not found\"%pdb_fn)"
   ]
  },
  {
   "cell_type": "code",
   "execution_count": 28,
   "id": "5a44ed60-5180-4566-a919-50f51336ea58",
   "metadata": {
    "tags": []
   },
   "outputs": [
    {
     "name": "stdout",
     "output_type": "stream",
     "text": [
      "Help on Structure in module Bio.PDB.Structure object:\n",
      "\n",
      "class Structure(Bio.PDB.Entity.Entity)\n",
      " |  Structure(id)\n",
      " |  \n",
      " |  The Structure class contains a collection of Model instances.\n",
      " |  \n",
      " |  Method resolution order:\n",
      " |      Structure\n",
      " |      Bio.PDB.Entity.Entity\n",
      " |      builtins.object\n",
      " |  \n",
      " |  Methods defined here:\n",
      " |  \n",
      " |  __init__(self, id)\n",
      " |      Initialize the class.\n",
      " |  \n",
      " |  __repr__(self)\n",
      " |      Return the structure identifier.\n",
      " |  \n",
      " |  atom_to_internal_coordinates(self, verbose: bool = False) -> None\n",
      " |      Create/update internal coordinates from Atom X,Y,Z coordinates.\n",
      " |      \n",
      " |      Internal coordinates are bond length, angle and dihedral angles.\n",
      " |      \n",
      " |      :param verbose bool: default False\n",
      " |          describe runtime problems\n",
      " |  \n",
      " |  get_atoms(self)\n",
      " |      Return atoms from residue.\n",
      " |  \n",
      " |  get_chains(self)\n",
      " |      Return chains from models.\n",
      " |  \n",
      " |  get_models(self)\n",
      " |      Return models.\n",
      " |  \n",
      " |  get_residues(self)\n",
      " |      Return residues from chains.\n",
      " |  \n",
      " |  internal_to_atom_coordinates(self, verbose: bool = False) -> None\n",
      " |      Create/update atom coordinates from internal coordinates.\n",
      " |      \n",
      " |      :param verbose bool: default False\n",
      " |          describe runtime problems\n",
      " |      \n",
      " |      :raises Exception: if any chain does not have .pic attribute\n",
      " |  \n",
      " |  ----------------------------------------------------------------------\n",
      " |  Methods inherited from Bio.PDB.Entity.Entity:\n",
      " |  \n",
      " |  __contains__(self, id)\n",
      " |      Check if there is a child element with the given id.\n",
      " |  \n",
      " |  __delitem__(self, id)\n",
      " |      Remove a child.\n",
      " |  \n",
      " |  __eq__(self, other)\n",
      " |      Test for equality. This compares full_id including the IDs of all parents.\n",
      " |  \n",
      " |  __ge__(self, other)\n",
      " |      Test greater or equal.\n",
      " |  \n",
      " |  __getitem__(self, id)\n",
      " |      Return the child with given id.\n",
      " |  \n",
      " |  __gt__(self, other)\n",
      " |      Test greater than.\n",
      " |  \n",
      " |  __hash__(self)\n",
      " |      Hash method to allow uniqueness (set).\n",
      " |  \n",
      " |  __iter__(self)\n",
      " |      Iterate over children.\n",
      " |  \n",
      " |  __le__(self, other)\n",
      " |      Test less or equal.\n",
      " |  \n",
      " |  __len__(self)\n",
      " |      Return the number of children.\n",
      " |  \n",
      " |  __lt__(self, other)\n",
      " |      Test less than.\n",
      " |  \n",
      " |  __ne__(self, other)\n",
      " |      Test for inequality.\n",
      " |  \n",
      " |  add(self, entity)\n",
      " |      Add a child to the Entity.\n",
      " |  \n",
      " |  copy(self)\n",
      " |      Copy entity recursively.\n",
      " |  \n",
      " |  detach_child(self, id)\n",
      " |      Remove a child.\n",
      " |  \n",
      " |  detach_parent(self)\n",
      " |      Detach the parent.\n",
      " |  \n",
      " |  get_full_id(self)\n",
      " |      Return the full id.\n",
      " |      \n",
      " |      The full id is a tuple containing all id's starting from\n",
      " |      the top object (Structure) down to the current object. A full id for\n",
      " |      a Residue object e.g. is something like:\n",
      " |      \n",
      " |      (\"1abc\", 0, \"A\", (\" \", 10, \"A\"))\n",
      " |      \n",
      " |      This corresponds to:\n",
      " |      \n",
      " |      Structure with id \"1abc\"\n",
      " |      Model with id 0\n",
      " |      Chain with id \"A\"\n",
      " |      Residue with id (\" \", 10, \"A\")\n",
      " |      \n",
      " |      The Residue id indicates that the residue is not a hetero-residue\n",
      " |      (or a water) because it has a blank hetero field, that its sequence\n",
      " |      identifier is 10 and its insertion code \"A\".\n",
      " |  \n",
      " |  get_id(self)\n",
      " |      Return the id.\n",
      " |  \n",
      " |  get_iterator(self)\n",
      " |      Return iterator over children.\n",
      " |  \n",
      " |  get_level(self)\n",
      " |      Return level in hierarchy.\n",
      " |      \n",
      " |      A - atom\n",
      " |      R - residue\n",
      " |      C - chain\n",
      " |      M - model\n",
      " |      S - structure\n",
      " |  \n",
      " |  get_list(self)\n",
      " |      Return a copy of the list of children.\n",
      " |  \n",
      " |  get_parent(self)\n",
      " |      Return the parent Entity object.\n",
      " |  \n",
      " |  has_id(self, id)\n",
      " |      Check if a child with given id exists.\n",
      " |  \n",
      " |  insert(self, pos, entity)\n",
      " |      Add a child to the Entity at a specified position.\n",
      " |  \n",
      " |  set_parent(self, entity)\n",
      " |      Set the parent Entity object.\n",
      " |  \n",
      " |  transform(self, rot, tran)\n",
      " |      Apply rotation and translation to the atomic coordinates.\n",
      " |      \n",
      " |      :param rot: A right multiplying rotation matrix\n",
      " |      :type rot: 3x3 Numeric array\n",
      " |      \n",
      " |      :param tran: the translation vector\n",
      " |      :type tran: size 3 Numeric array\n",
      " |      \n",
      " |      Examples\n",
      " |      --------\n",
      " |      This is an incomplete but illustrative example::\n",
      " |      \n",
      " |          from numpy import pi, array\n",
      " |          from Bio.PDB.vectors import Vector, rotmat\n",
      " |          rotation = rotmat(pi, Vector(1, 0, 0))\n",
      " |          translation = array((0, 0, 1), 'f')\n",
      " |          entity.transform(rotation, translation)\n",
      " |  \n",
      " |  ----------------------------------------------------------------------\n",
      " |  Data descriptors inherited from Bio.PDB.Entity.Entity:\n",
      " |  \n",
      " |  __dict__\n",
      " |      dictionary for instance variables (if defined)\n",
      " |  \n",
      " |  __weakref__\n",
      " |      list of weak references to the object (if defined)\n",
      " |  \n",
      " |  id\n",
      " |      Return identifier.\n",
      "\n"
     ]
    }
   ],
   "source": [
    "path='../data/test/pdb-data/Glucagon/1GCN.pdb'\n",
    "\n",
    "parser=PDBParser()\n",
    "structure=parser.get_structure('1GCN', path)\n",
    "help(structure)"
   ]
  },
  {
   "cell_type": "code",
   "execution_count": null,
   "id": "b701c456-d9f2-4f29-a744-541833eb7bfe",
   "metadata": {},
   "outputs": [],
   "source": []
  }
 ],
 "metadata": {
  "kernelspec": {
   "display_name": "Python 3",
   "language": "python",
   "name": "python3"
  },
  "language_info": {
   "codemirror_mode": {
    "name": "ipython",
    "version": 3
   },
   "file_extension": ".py",
   "mimetype": "text/x-python",
   "name": "python",
   "nbconvert_exporter": "python",
   "pygments_lexer": "ipython3",
   "version": "3.8.10"
  }
 },
 "nbformat": 4,
 "nbformat_minor": 5
}
